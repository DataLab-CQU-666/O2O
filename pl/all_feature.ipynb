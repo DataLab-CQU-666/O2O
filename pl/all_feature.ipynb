{
 "cells": [
  {
   "cell_type": "markdown",
   "metadata": {},
   "source": [
    "# 特征：\n",
    "- 使用Distance（空值填1）\n",
    "- Discount_rate做one-hot\n",
    "- 每个用户：优惠券使用次数\n",
    "- 领券是星期几\n",
    "- 是否小于15天消费\n",
    "- 商家优惠券被消费次数\n",
    "- 用户当天使用优惠券\n",
    "- 只在一个商铺领取过优惠劵并且有消费记录\n",
    "- 用户使用该商家的优惠劵的平均时间\n",
    "- 用户消费的平均距离\n",
    "- 用户使用某种类型的优惠劵数目/用户领取优惠劵总数\n",
    "- 用户领取某种类型的优惠劵数目/用户领取优惠劵总数\n",
    "- 用户在某个商铺的优惠券领取数\n",
    "- 用户在某个商铺的优惠券消费数\n",
    "- 用户只领取过一次优惠劵但未消费\n",
    "- 用户领取优惠劵并且全部消费\n",
    "# 算法：逻辑回归"
   ]
  },
  {
   "cell_type": "code",
   "execution_count": 1,
   "metadata": {},
   "outputs": [],
   "source": [
    "import pandas as pd\n",
    "import numpy as np\n",
    "\n",
    "off_train = pd.read_csv('E:/tianchi/ccf_offline_stage1_train.csv')\n",
    "off_test = pd.read_csv('E:/tianchi/ccf_offline_stage1_test_revised.csv')\n",
    "off_train = off_train.dropna(subset = ['Coupon_id'])"
   ]
  },
  {
   "cell_type": "markdown",
   "metadata": {},
   "source": [
    "# 加标签"
   ]
  },
  {
   "cell_type": "code",
   "execution_count": 2,
   "metadata": {},
   "outputs": [],
   "source": [
    "off_train['result'] = off_train[['Coupon_id', 'Date']].apply(lambda x: 1 if pd.notnull(x[0]) and pd.notnull(x[1]) else 0, axis = 1)"
   ]
  },
  {
   "cell_type": "markdown",
   "metadata": {},
   "source": [
    "# 加领券是星期几"
   ]
  },
  {
   "cell_type": "code",
   "execution_count": 3,
   "metadata": {},
   "outputs": [],
   "source": [
    "#对训练集取星期数\n",
    "off_train[\"Week\"] = off_train[\"Date_received\"]\n",
    "off_train.Week = off_train.Week.astype(\"int\")\n",
    "off_train.Week = off_train.Week.astype(\"str\")\n",
    "off_train[\"Week\"] = pd.to_datetime(off_train[\"Week\"]).apply(lambda x : x.weekday())\n",
    "\n",
    "#对测试集取星期数\n",
    "off_test[\"Week\"] = off_test[\"Date_received\"]\n",
    "off_test.Week = off_test.Week.astype(\"int\")\n",
    "off_test.Week = off_test.Week.astype(\"str\")\n",
    "off_test[\"Week\"] = pd.to_datetime(off_test[\"Week\"]).apply(lambda x : x.weekday())"
   ]
  },
  {
   "cell_type": "markdown",
   "metadata": {},
   "source": [
    "# 加是否小于15天消费"
   ]
  },
  {
   "cell_type": "code",
   "execution_count": 4,
   "metadata": {},
   "outputs": [],
   "source": [
    "import datetime\n",
    "\n",
    "#判断使用优惠券日期-领取优惠券日期是否小于15天，小于取1，大于取0 \n",
    "def days(z):\n",
    "    if str(z['Date_received']) != 'nan' and str(z['Date']) != 'nan':\n",
    "        days = (datetime.datetime.strptime(str(int(z['Date'])), \"%Y%m%d\") - datetime.datetime.strptime(str(int(z['Date_received'])), \"%Y%m%d\"))\n",
    "        if days.days > 15:\n",
    "            return 0\n",
    "        else:\n",
    "            return 1\n",
    "    else:\n",
    "        return 0\n",
    "\n",
    "#将判断后的结果赋值给训练集    \n",
    "off_train['less_15'] = off_train.apply(days, axis = 1)\n",
    "\n",
    "#用户和优惠券id是多对多的关系，所以按用户对他消费小于15天的数做了一个累加，去除掉训练集中的这列特征，方便做处理后特征的连接\n",
    "train = off_train[['User_id', 'less_15']]\n",
    "train = train.drop_duplicates(subset = ['User_id'])\n",
    "a = train.less_15.groupby(train['User_id']).sum()\n",
    "train = a.reset_index()\n",
    "off_train = off_train.drop(columns = 'less_15')\n",
    "\n",
    "#对测试集和测试集按用户增加这列特征\n",
    "off_train = pd.merge(off_train, train, on = 'User_id', how = 'left')\n",
    "off_test = pd.merge(off_test, train, on = 'User_id', how = 'left')\n",
    "\n",
    "#测试集中有训练集中没有出现的用户，这类用户的这个特征默认填了空，把空值填0\n",
    "off_test.less_15 = off_test.less_15.fillna(0)"
   ]
  },
  {
   "cell_type": "markdown",
   "metadata": {},
   "source": [
    "# 加用户消费次数"
   ]
  },
  {
   "cell_type": "code",
   "execution_count": 5,
   "metadata": {},
   "outputs": [],
   "source": [
    "#统计用户消费次数\n",
    "User_Coupon_notna = off_train[['User_id', 'Date']].groupby('User_id').count()\n",
    "User_Coupon_notna = User_Coupon_notna.reset_index()\n",
    "User_Coupon_notna.rename(columns = {'Coupon_id' : 'Coupon_id_count', 'Date' : 'Consume_count'}, inplace=True)\n",
    "\n",
    "#将得到的特征返回到训练集与测试集中，测试集中有训练集中没有出现的用户，这类用户的这个特征默认填了空，把空值填0\n",
    "off_train = pd.merge(off_train, User_Coupon_notna[['User_id', 'Consume_count']], on = ['User_id'], how = 'left')\n",
    "off_test = pd.merge(off_test, User_Coupon_notna[['User_id', 'Consume_count']], on = 'User_id', how = 'left')\n",
    "off_test = off_test.fillna(value = {'Consume_count' : 0})"
   ]
  },
  {
   "cell_type": "markdown",
   "metadata": {},
   "source": [
    "# Distinct填1"
   ]
  },
  {
   "cell_type": "code",
   "execution_count": 6,
   "metadata": {},
   "outputs": [],
   "source": [
    "off_train.Distance = off_train.Distance.fillna(1)\n",
    "off_test.Distance = off_test.Distance.fillna(1)"
   ]
  },
  {
   "cell_type": "markdown",
   "metadata": {},
   "source": [
    "# 加商家优惠券被消费次数"
   ]
  },
  {
   "cell_type": "code",
   "execution_count": 7,
   "metadata": {},
   "outputs": [],
   "source": [
    "#统计商家优惠券消费次数\n",
    "Merchant_Coupon_notna = off_train['Date'].groupby(off_train['Merchant_id']).count()\n",
    "Merchant_Coupon_notna = Merchant_Coupon_notna.reset_index()\n",
    "Merchant_Coupon_notna.rename(columns = {'Date' : 'Coupon_have_userd_counts'}, inplace = True)\n",
    "\n",
    "#将得到的特征返回到训练集与测试集中，测试集中有训练集中没有出现的商家，这类商家的这个特征默认填了空，把空值填0\n",
    "off_train = pd.merge(off_train, Merchant_Coupon_notna, on = ['Merchant_id'], how = 'left')\n",
    "off_test = pd.merge(off_test, Merchant_Coupon_notna ,on = ['Merchant_id'], how='left')\n",
    "off_test = off_test.fillna(value = {'Coupon_have_userd_counts' : 0})"
   ]
  },
  {
   "cell_type": "markdown",
   "metadata": {},
   "source": [
    "# 加用户当天使用优惠券"
   ]
  },
  {
   "cell_type": "code",
   "execution_count": 11,
   "metadata": {},
   "outputs": [],
   "source": [
    "#找出有优惠券消费的数据\n",
    "date_nan_drop = off_train.dropna(subset=['Date'])\n",
    "date_nan_drop = date_nan_drop.reset_index()\n",
    "\n",
    "#领取日期等于消费日期，说明是当天消费\n",
    "import datetime\n",
    "def Use(z):\n",
    "    if z.Date_received == z.Date:\n",
    "        return 1\n",
    "    else:\n",
    "        return np.NaN\n",
    "date_nan_drop['Use_today'] = date_nan_drop.apply(Use, axis=1)\n",
    "#一个用户可能有多个当天消费行为，将这部分去重\n",
    "a = date_nan_drop[['User_id', 'Use_today']]\n",
    "a = a.drop_duplicates(subset=['User_id'])\n",
    "#将结果返回\n",
    "off_train = pd.merge(off_train, a, on = 'User_id', how = 'left')\n",
    "off_test = pd.merge(off_test, a, on = 'User_id', how = 'left')\n",
    "#空值填0\n",
    "off_train = off_train.fillna({'Use_today':0})\n",
    "off_test = off_test.fillna({'Use_today':0})"
   ]
  },
  {
   "cell_type": "markdown",
   "metadata": {},
   "source": [
    "# 加只在一个商铺领取过优惠劵并且有消费记录"
   ]
  },
  {
   "cell_type": "code",
   "execution_count": 12,
   "metadata": {},
   "outputs": [],
   "source": [
    "#找出有优惠券消费的数据\n",
    "date_nan_drop = off_train.dropna(subset=['Date'])\n",
    "date_nan_drop = date_nan_drop.reset_index()\n",
    "#找出用户在几个商家消费过，只在1个置1，其余置0\n",
    "Consume_oneMerchant = date_nan_drop['Merchant_id'].groupby(date_nan_drop['User_id'])\n",
    "a = Consume_oneMerchant.count()\n",
    "a = a.reset_index()\n",
    "a = a.rename(columns={'Merchant_id':'Use_One_Merchant'})\n",
    "a['Use_One_Merchant'] = a.Use_One_Merchant.apply(lambda x:1 if x == 1 else 0)\n",
    "#将结果返回\n",
    "off_train = pd.merge(off_train, a, on = 'User_id', how = 'left')\n",
    "off_test = pd.merge(off_test, a, on = 'User_id', how = 'left')\n",
    "#空值填0\n",
    "off_train = off_train.fillna({'Use_One_Merchant':0})\n",
    "off_test = off_test.fillna({'Use_One_Merchant':0})"
   ]
  },
  {
   "cell_type": "markdown",
   "metadata": {},
   "source": [
    "# 加用户使用该商家的优惠劵的平均时间"
   ]
  },
  {
   "cell_type": "code",
   "execution_count": 13,
   "metadata": {},
   "outputs": [],
   "source": [
    "import datetime\n",
    "\n",
    "#返回领取到消费天数\n",
    "def days(z):\n",
    "    if str(z['Date_received']) != 'nan' and str(z['Date']) != 'nan':\n",
    "        days = (datetime.datetime.strptime(str(int(z['Date'])), \"%Y%m%d\") - datetime.datetime.strptime(str(int(z['Date_received'])), \"%Y%m%d\"))\n",
    "        return days.days\n",
    "    else:\n",
    "        return np.NaN\n",
    "    \n",
    "off_train['days'] =  off_train.apply(days, axis=1)\n",
    "#找出有消费的数据\n",
    "use_Coupon = off_train.dropna(subset=['days'])\n",
    "#按用户计算天数均值\n",
    "a = use_Coupon['days'].groupby(use_Coupon['User_id']).mean()\n",
    "a = a.reset_index()\n",
    "a = a.rename(columns={'days':'Use_mean_time'})\n",
    "#将结果返回测试集与训练集\n",
    "off_train = pd.merge(off_train, a, on = 'User_id', how = 'left')\n",
    "off_test = pd.merge(off_test, a, on = 'User_id', how = 'left')\n",
    "#空值填0\n",
    "off_train = off_train.fillna({'Use_mean_time':0})\n",
    "off_test = off_test.fillna({'Use_mean_time':0})"
   ]
  },
  {
   "cell_type": "markdown",
   "metadata": {},
   "source": [
    "# 加用户消费的平均距离"
   ]
  },
  {
   "cell_type": "code",
   "execution_count": 14,
   "metadata": {},
   "outputs": [],
   "source": [
    "#找出有消费的数据\n",
    "use_Coupon = off_train.dropna(subset=['days'])\n",
    "#按用户计算距离均值\n",
    "a = use_Coupon['Distance'].groupby(use_Coupon['User_id']).mean()\n",
    "a = a.reset_index()\n",
    "a = a.rename(columns={'Distance':'Use_mean_Distance'})\n",
    "#将结果返回训练集与测试集\n",
    "off_train = pd.merge(off_train, a, on = 'User_id', how = 'left')\n",
    "off_test = pd.merge(off_test, a, on = 'User_id', how = 'left')\n",
    "#空值填0\n",
    "off_train = off_train.fillna({'Use_mean_Distance':0})\n",
    "off_test = off_test.fillna({'Use_mean_Distance':0})"
   ]
  },
  {
   "cell_type": "markdown",
   "metadata": {},
   "source": [
    "# 加用户使用某种类型的优惠劵数目/用户领取优惠劵总数"
   ]
  },
  {
   "cell_type": "code",
   "execution_count": 15,
   "metadata": {},
   "outputs": [],
   "source": [
    "#找出有消费的数据\n",
    "use_Coupon = off_train.dropna(subset=['days'])\n",
    "#找出用户使用某种类型的优惠券数目\n",
    "a = use_Coupon[['User_id', 'Discount_rate']].groupby([use_Coupon['User_id'], use_Coupon['Discount_rate']]).count()\n",
    "a = a.rename(columns={'User_id':'Coupon_use'})\n",
    "a = a.drop(columns=['Discount_rate'])\n",
    "a = a.reset_index()\n",
    "#找不用户领取优惠券总数\n",
    "b = off_train['Date_received'].groupby(off_train['User_id']).count()\n",
    "b = b.reset_index()\n",
    "b = b.rename(columns={'Date_received':'Coupon_recieved'})\n",
    "#将他们相除\n",
    "c = pd.merge(a, b, on = 'User_id', how = 'left')\n",
    "def chufa(z):\n",
    "    x = z.Coupon_use / z.Coupon_recieved\n",
    "    return x\n",
    "c['Coupon_use/Coupon_sum'] = c.apply(chufa, axis=1)\n",
    "#将结果返回训练集与测试集\n",
    "off_train = pd.merge(off_train, c[['User_id', 'Discount_rate', 'Coupon_use/Coupon_sum']], on = ['User_id', 'Discount_rate'], how = 'left')\n",
    "off_test = pd.merge(off_test, c[['User_id', 'Discount_rate', 'Coupon_use/Coupon_sum']], on = ['User_id', 'Discount_rate'], how = 'left')\n",
    "#空值填0\n",
    "off_train = off_train.fillna({'Coupon_use/Coupon_sum':0})\n",
    "off_test = off_test.fillna({'Coupon_use/Coupon_sum':0})"
   ]
  },
  {
   "cell_type": "markdown",
   "metadata": {},
   "source": [
    "# 加用户领取某种类型的优惠劵数目/用户领取优惠劵总数"
   ]
  },
  {
   "cell_type": "code",
   "execution_count": 16,
   "metadata": {},
   "outputs": [],
   "source": [
    "#找出用户领取某种类型的优惠劵数目\n",
    "a = off_train[['User_id', 'Discount_rate']].groupby([off_train['User_id'], off_train['Discount_rate']]).count()\n",
    "a = a.rename(columns={'User_id':'Coupon_use'})\n",
    "a = a.drop(columns=['Discount_rate'])\n",
    "a = a.reset_index()\n",
    "#找出用户领取优惠劵总数\n",
    "b = off_train['Date_received'].groupby(off_train['User_id']).count()\n",
    "b = b.reset_index()\n",
    "b = b.rename(columns={'Date_received':'Coupon_recieved'})\n",
    "#将他们相除\n",
    "c = pd.merge(a, b, on = 'User_id', how = 'left')\n",
    "def chufa(z):\n",
    "    x = z.Coupon_use / z.Coupon_recieved\n",
    "    return x\n",
    "c['Coupon/Coupon_sum'] = c.apply(chufa, axis=1)\n",
    "#将结果返回训练集与测试集\n",
    "off_train = pd.merge(off_train, c[['User_id', 'Discount_rate', 'Coupon/Coupon_sum']], on = ['User_id', 'Discount_rate'], how = 'left')\n",
    "off_test = pd.merge(off_test, c[['User_id', 'Discount_rate', 'Coupon/Coupon_sum']], on = ['User_id', 'Discount_rate'], how = 'left')\n",
    "#空值填0\n",
    "off_train = off_train.fillna({'Coupon/Coupon_sum':0})\n",
    "off_test = off_test.fillna({'Coupon/Coupon_sum':0})"
   ]
  },
  {
   "cell_type": "markdown",
   "metadata": {},
   "source": [
    "# Discount_rate独热"
   ]
  },
  {
   "cell_type": "code",
   "execution_count": 17,
   "metadata": {},
   "outputs": [],
   "source": [
    "#对训练集和测试集中的Discount_rate进行独热编码\n",
    "off_train = pd.get_dummies(off_train, prefix=['Discount_rate'])\n",
    "off_test = pd.get_dummies(off_test, prefix=['Discount_rate'])\n",
    "\n",
    "#训练集中出现了4个测试集中没有出现的码段，进行填充\n",
    "m = list(set(off_train.columns.tolist()) - set(off_test.columns.tolist()))\n",
    "for i in m:\n",
    "    off_test[i] = 0\n",
    "\n",
    "#测试集中有一个训练集中没有的码段，进行填充    \n",
    "off_train['Discount_rate_500:30'] = 0"
   ]
  },
  {
   "cell_type": "markdown",
   "metadata": {},
   "source": [
    "# 加用户在某个商铺的优惠券领取数"
   ]
  },
  {
   "cell_type": "code",
   "execution_count": 18,
   "metadata": {},
   "outputs": [],
   "source": [
    "#找出用户在某个商铺的优惠券领取数\n",
    "a = off_train['Date_received'].groupby([off_train['User_id'], off_train['Merchant_id']]).count()\n",
    "a = a.reset_index()\n",
    "a = a.rename(columns={'Date_received':'User_Merchant_Coupon'})\n",
    "#将结果返回训练集与测试集\n",
    "off_train = pd.merge(off_train, a, on = ['User_id', 'Merchant_id'], how = 'left')\n",
    "off_test = pd.merge(off_test, a, on = ['User_id', 'Merchant_id'], how = 'left')\n",
    "#空值填0\n",
    "off_train = off_train.fillna({'User_Merchant_Coupon':0})\n",
    "off_test = off_test.fillna({'User_Merchant_Coupon':0})"
   ]
  },
  {
   "cell_type": "markdown",
   "metadata": {},
   "source": [
    "# 加用户在某个商铺的优惠券消费数"
   ]
  },
  {
   "cell_type": "code",
   "execution_count": 19,
   "metadata": {},
   "outputs": [],
   "source": [
    "#找出用户在某个商铺的优惠券消费数\n",
    "a = off_train['Date'].groupby([off_train['User_id'], off_train['Merchant_id']]).count()\n",
    "a = a.reset_index()\n",
    "a = a.rename(columns={'Date':'User_Merchant_Coupon_used'})\n",
    "#将结果返回训练集与测试集\n",
    "off_train = pd.merge(off_train, a, on = ['User_id', 'Merchant_id'], how = 'left')\n",
    "off_test = pd.merge(off_test, a, on = ['User_id', 'Merchant_id'], how = 'left')\n",
    "#空值填0\n",
    "off_train = off_train.fillna({'User_Merchant_Coupon_used':0})\n",
    "off_test = off_test.fillna({'User_Merchant_Coupon_used':0})"
   ]
  },
  {
   "cell_type": "markdown",
   "metadata": {},
   "source": [
    "# 用户只领取过一次优惠劵但未消费"
   ]
  },
  {
   "cell_type": "code",
   "execution_count": 20,
   "metadata": {},
   "outputs": [],
   "source": [
    "user_coupon = off_train[['User_id', 'Coupon_id']]\n",
    "# 利用User_id和Coupon_id两列对用户进性分组，并且计算每组的数目，并进行序号重置\n",
    "user_coupon_count = user_coupon.groupby(by=['User_id']).size().reset_index()\n",
    "# 重命名\n",
    "user_coupon_count.rename(columns={0:'Coupon_size'}, inplace=True)\n",
    "# 将筛选出来需要merge的列和原始的数据进行merge Coupon_size代表用户领取的优惠劵数目\n",
    "off_train = off_train.merge(user_coupon_count, on='User_id', how='inner')\n",
    "\n",
    "user_coupon = off_train[['User_id', 'result']]\n",
    "# 利用User_id和result两列对用户进性分组，并且计算每组的数目（这里相当于求和），并进行序号重置\n",
    "user_coupon_used_count = user_coupon.groupby(by=['User_id']).sum().reset_index()\n",
    "# 重命名 Consume_count用户使用了的优惠劵数目\n",
    "user_coupon_used_count.rename(columns={'result':'Conupon_have_used_count'}, inplace=True)\n",
    "# 将筛选出来需要merge的列和原始的数据进行merge\n",
    "off_train = off_train.merge(user_coupon_used_count, on='User_id', how='inner')\n",
    "\n",
    "# 为训练集添加Coupon_all_consume特征，标记那些领取优惠劵数目等于使用优惠劵数目\n",
    "off_train['Coupon_all_consume'] = off_train[['Conupon_have_used_count','Coupon_size']].apply(lambda x : 1 if x[0] == x[1] else 0, axis = 1)\n",
    "# 去掉产生的中间列\n",
    "off_train = off_train.drop(columns=['Coupon_size', 'Conupon_have_used_count'])\n",
    "# 提取需要的列好merge到测试集中\n",
    "off_train_coupon_all_consume = off_train[['User_id', 'Coupon_all_consume']]\n",
    "off_train_coupon_all_consume = off_train_coupon_all_consume.drop_duplicates(['User_id', 'Coupon_all_consume'])\n",
    "#为测试集添加Coupon_all_consume特征\n",
    "off_test = off_test.merge(off_train_coupon_all_consume, on='User_id', how='left')\n",
    "# 填充merge以后的空值为0\n",
    "off_test = off_test.fillna({'Coupon_all_consume':0})"
   ]
  },
  {
   "cell_type": "markdown",
   "metadata": {},
   "source": [
    "# 用户领取优惠劵并且全部消费"
   ]
  },
  {
   "cell_type": "code",
   "execution_count": 21,
   "metadata": {},
   "outputs": [],
   "source": [
    "user_coupon = off_train[['User_id', 'Coupon_id','result']]\n",
    "# 利用User_id和result两列对用户进性分组，并且计算每组的数目，并进行序号重置\n",
    "user_coupon_count = user_coupon.groupby(by=['User_id','result']).size().reset_index()\n",
    "# 重命名\n",
    "user_coupon_count.rename(columns={0:'Coupon_size'}, inplace=True)\n",
    "# 筛选出领取次数为1并且未消费的\n",
    "user_coupon_count_1 = user_coupon_count[(user_coupon_count.Coupon_size == 1) & (user_coupon_count.result == 0)]\n",
    "# 去掉不需要merge的这一列，即result\n",
    "user_coupon_count_1 = user_coupon_count_1.drop(columns=['result'])\n",
    "\n",
    "# 训练集进行添加One_coupon_no_consume特征\n",
    "# 将筛选出来需要merge的列和原始的数据进行merge\n",
    "off_train = off_train.merge(user_coupon_count_1, on='User_id', how='left')\n",
    "#再次重命名\n",
    "off_train.rename(columns={'Coupon_size':'One_coupon_no_consume'}, inplace=True)\n",
    "# 填充merge以后的空值项为 0\n",
    "off_train = off_train.fillna({'One_coupon_no_consume':0})\n",
    "\n",
    "# 测试集添加One_coupon_no_consume特征\n",
    "off_test = off_test.merge(user_coupon_count_1, on='User_id', how='left')\n",
    "off_test.rename(columns={'Coupon_size':'One_coupon_no_consume'}, inplace=True)\n",
    "off_test = off_test.fillna({'One_coupon_no_consume':0})"
   ]
  },
  {
   "cell_type": "code",
   "execution_count": 22,
   "metadata": {},
   "outputs": [],
   "source": [
    "off_train = off_train.fillna(0)\n",
    "off_test = off_test.fillna(0)"
   ]
  },
  {
   "cell_type": "code",
   "execution_count": 23,
   "metadata": {},
   "outputs": [],
   "source": [
    "#训练数据、训练标签、测试数据的设置\n",
    "x_train = off_train.drop(columns = ['Date_received', 'User_id', 'Merchant_id', 'Coupon_id', 'Date', 'result', 'days'])\n",
    "y_train = off_train.result\n",
    "x_test = off_test.drop(columns = ['Date_received', 'User_id', 'Merchant_id', 'Coupon_id'])\n",
    "\n",
    "#将训练数据和测试数据的列一一对应\n",
    "x_test = x_test[x_train.columns.tolist()]\n",
    "\n",
    "from sklearn.linear_model import LogisticRegression\n",
    "\n",
    "#调用逻辑回归模型，并进行训练\n",
    "clf = LogisticRegression()\n",
    "clf.fit(x_train, y_train)\n",
    "\n",
    "#进行预测，并将需要保存的部分写入save\n",
    "predict = clf.predict_proba(x_test)\n",
    "save = off_test[['User_id', 'Coupon_id', 'Date_received']]\n",
    "save.insert(3, 'probability', predict[:,1], True)\n",
    "\n",
    "#输出结果为csv\n",
    "save.to_csv('E:/tianchi/20180726/all_feature.csv', index = None)"
   ]
  },
  {
   "cell_type": "code",
   "execution_count": null,
   "metadata": {},
   "outputs": [],
   "source": []
  }
 ],
 "metadata": {
  "kernelspec": {
   "display_name": "Python 3",
   "language": "python",
   "name": "python3"
  },
  "language_info": {
   "codemirror_mode": {
    "name": "ipython",
    "version": 3
   },
   "file_extension": ".py",
   "mimetype": "text/x-python",
   "name": "python",
   "nbconvert_exporter": "python",
   "pygments_lexer": "ipython3",
   "version": "3.6.4"
  }
 },
 "nbformat": 4,
 "nbformat_minor": 2
}
