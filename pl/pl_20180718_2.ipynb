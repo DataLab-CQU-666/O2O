{
 "cells": [
  {
   "cell_type": "code",
   "execution_count": 17,
   "metadata": {},
   "outputs": [],
   "source": [
    "import pandas as pd\n",
    "\n",
    "train_off = pd.read_csv('E:/tianchi/ccf_offline_stage1_train.csv')\n",
    "test = pd.read_csv('E:/tianchi/ccf_offline_stage1_test_revised.csv')\n",
    "train_off = train_off.dropna(subset = ['Coupon_id'])"
   ]
  },
  {
   "cell_type": "code",
   "execution_count": 18,
   "metadata": {},
   "outputs": [],
   "source": [
    "import datetime\n",
    " \n",
    "def days(z):\n",
    "    if str(z['Date_received']) != 'nan' and str(z['Date']) != 'nan':\n",
    "        days = (datetime.datetime.strptime(str(int(z['Date'])), \"%Y%m%d\") - datetime.datetime.strptime(str(int(z['Date_received'])), \"%Y%m%d\"))\n",
    "        if days.days > 15:\n",
    "            return 0\n",
    "        else:\n",
    "            return 1\n",
    "    else:\n",
    "        return 0\n",
    "        \n",
    "train_off['less_15'] = train_off.apply(days, axis = 1)"
   ]
  },
  {
   "cell_type": "code",
   "execution_count": 19,
   "metadata": {},
   "outputs": [],
   "source": [
    "train_off.Distance = train_off.Distance.fillna(1)\n",
    "test.Distance = test.Distance.fillna(1)"
   ]
  },
  {
   "cell_type": "code",
   "execution_count": 20,
   "metadata": {},
   "outputs": [],
   "source": [
    "train = train_off[['User_id', 'less_15']]\n",
    "a = train.less_15.groupby(train['User_id']).sum()\n",
    "a = a.reset_index()\n",
    "train = a\n",
    "train_off = train_off.drop(columns = 'less_15')"
   ]
  },
  {
   "cell_type": "code",
   "execution_count": 21,
   "metadata": {},
   "outputs": [],
   "source": [
    "train_off = pd.merge(train_off, train, on = 'User_id', how = 'left')\n",
    "test = pd.merge(test, train, on = 'User_id', how = 'left')"
   ]
  },
  {
   "cell_type": "code",
   "execution_count": 22,
   "metadata": {},
   "outputs": [],
   "source": [
    "test = test.fillna(0)"
   ]
  },
  {
   "cell_type": "code",
   "execution_count": 23,
   "metadata": {},
   "outputs": [],
   "source": [
    "train_off[\"Week\"] = train_off[\"Date_received\"]\n",
    "train_off.Week = train_off.Week.astype(\"int\")\n",
    "train_off.Week = train_off.Week.astype(\"str\")\n",
    "train_off[\"Week\"] = pd.to_datetime(train_off[\"Week\"]).apply(lambda x : x.weekday())"
   ]
  },
  {
   "cell_type": "code",
   "execution_count": 24,
   "metadata": {},
   "outputs": [],
   "source": [
    "test[\"Week\"] = test[\"Date_received\"]\n",
    "test.Week = test.Week.astype(\"int\")\n",
    "test.Week = test.Week.astype(\"str\")\n",
    "test[\"Week\"] = pd.to_datetime(test[\"Week\"]).apply(lambda x : x.weekday())"
   ]
  },
  {
   "cell_type": "code",
   "execution_count": 25,
   "metadata": {},
   "outputs": [],
   "source": [
    "train_off['result'] = train_off[['Coupon_id', 'Date']].apply(lambda x: 1 if pd.notnull(x[0]) and pd.notnull(x[1]) else 0, axis = 1)"
   ]
  },
  {
   "cell_type": "code",
   "execution_count": 26,
   "metadata": {},
   "outputs": [],
   "source": [
    "X_train = train_off[['Discount_rate', 'Distance', 'less_15', 'Week']]\n",
    "y_train = train_off.result\n",
    "X_test = test[['Discount_rate', 'Distance', 'less_15', 'Week']]"
   ]
  },
  {
   "cell_type": "code",
   "execution_count": 11,
   "metadata": {},
   "outputs": [],
   "source": [
    "X_train = pd.get_dummies(X_train)\n",
    "X_test = pd.get_dummies(X_test)"
   ]
  },
  {
   "cell_type": "code",
   "execution_count": 12,
   "metadata": {},
   "outputs": [],
   "source": [
    "train_name = X_train.columns.tolist()\n",
    "test_name = X_test.columns.tolist()\n",
    "m = list(set(train_name) - set(test_name))\n",
    "\n",
    "for i in m:\n",
    "    X_test[i] = 1\n",
    "    \n",
    "X_train['Discount_rate_500:30'] = 1"
   ]
  },
  {
   "cell_type": "code",
   "execution_count": 13,
   "metadata": {},
   "outputs": [],
   "source": [
    "X_train_name = X_train.columns.tolist()\n",
    "X_test = X_test[X_train_name]"
   ]
  },
  {
   "cell_type": "code",
   "execution_count": 14,
   "metadata": {},
   "outputs": [],
   "source": [
    "from sklearn.linear_model import LogisticRegression\n",
    "\n",
    "clf = LogisticRegression()\n",
    "clf.fit(X_train, y_train)\n",
    "predict = clf.predict_proba(X_test)\n",
    "save = test[['User_id', 'Coupon_id', 'Date_received']]\n",
    "save.insert(3, 'probability', predict[:,1], True)"
   ]
  },
  {
   "cell_type": "code",
   "execution_count": 15,
   "metadata": {},
   "outputs": [],
   "source": [
    "save.to_csv('E:/tianchi/20180718/less_15.csv', index = None)"
   ]
  },
  {
   "cell_type": "code",
   "execution_count": null,
   "metadata": {},
   "outputs": [],
   "source": []
  }
 ],
 "metadata": {
  "kernelspec": {
   "display_name": "Python 3",
   "language": "python",
   "name": "python3"
  },
  "language_info": {
   "codemirror_mode": {
    "name": "ipython",
    "version": 3
   },
   "file_extension": ".py",
   "mimetype": "text/x-python",
   "name": "python",
   "nbconvert_exporter": "python",
   "pygments_lexer": "ipython3",
   "version": "3.6.4"
  }
 },
 "nbformat": 4,
 "nbformat_minor": 2
}
