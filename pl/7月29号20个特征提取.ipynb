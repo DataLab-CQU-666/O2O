{
 "cells": [
  {
   "cell_type": "markdown",
   "metadata": {},
   "source": [
    "# 特征：\n",
    "- 用户使用某类型优惠券数\n",
    "- 用户领取优惠券数目\n",
    "- 用户领取某种类型优惠券数\n",
    "- 用户使用某种类型优惠券数目/领取该类型优惠券数目\n",
    "- 用户使用某类型优惠券数/总体使用优惠券数\n",
    "- 用户使用优惠券的最大距离\n",
    "- 用户使用优惠券的最小距离\n",
    "- 用户一天内领取优惠券的数目\n",
    "- 用户消费的平均时间\n",
    "- 用户一天领取多少种优惠券\n",
    "- 用户使用某商家某种类型优惠券数目\n",
    "- 用户使用某商家某类型的优惠券/用户在某商家所有使用的优惠券数目\n",
    "- 用户使用某商家某类型优惠券/用户领取某商家某优惠券总数\n",
    "- 用户使用某商家某类型优惠券/用户领取某商家优惠券总数\n",
    "- 用户使用某商家某类型优惠券/领取某商家某优惠券总数\n",
    "- 用户使用商家的优惠券/商家使用优惠券数\n",
    "- 满减or折扣\n",
    "- 某类优惠券发放次数\n",
    "- 某种优惠券使用次数\n",
    "- 某种优惠券使用/某种优惠券领取"
   ]
  },
  {
   "cell_type": "code",
   "execution_count": 1,
   "metadata": {},
   "outputs": [],
   "source": [
    "import pandas as pd\n",
    "import numpy as np\n",
    "\n",
    "off_train = pd.read_csv('E:/tianchi/ccf_offline_stage1_train.csv')\n",
    "off_test = pd.read_csv('E:/tianchi/ccf_offline_stage1_test_revised.csv')\n",
    "off_train = off_train.dropna(subset = ['Coupon_id'])"
   ]
  },
  {
   "cell_type": "code",
   "execution_count": 2,
   "metadata": {},
   "outputs": [],
   "source": [
    "off_train.Distance = off_train.Distance.fillna(1)\n",
    "off_test.Distance = off_test.Distance.fillna(1)"
   ]
  },
  {
   "cell_type": "markdown",
   "metadata": {},
   "source": [
    "# 用户使用某类型优惠券数"
   ]
  },
  {
   "cell_type": "code",
   "execution_count": 3,
   "metadata": {},
   "outputs": [],
   "source": [
    "a = off_train[['User_id', 'Discount_rate', 'Date']].groupby(['User_id', 'Discount_rate'], as_index=False).count()\n",
    "a = a.rename(columns={'Date' : 'User_Consume_type'})\n",
    "\n",
    "off_train = pd.merge(off_train, a, on=['User_id', 'Discount_rate'], how='left')\n",
    "off_test = pd.merge(off_test, a, on=['User_id', 'Discount_rate'], how='left')\n",
    "\n",
    "off_test = off_test.fillna(value = {'User_Consume_type' : 0})"
   ]
  },
  {
   "cell_type": "markdown",
   "metadata": {},
   "source": [
    "# 用户领取优惠券数目"
   ]
  },
  {
   "cell_type": "code",
   "execution_count": 4,
   "metadata": {},
   "outputs": [],
   "source": [
    "a = off_train[['User_id', 'Date_received']].groupby('User_id', as_index=False).count()\n",
    "a = a.rename(columns={'Date_received' : 'User_Received'})\n",
    "\n",
    "off_train = pd.merge(off_train, a, on='User_id', how='left')\n",
    "off_test = pd.merge(off_test, a, on='User_id', how='left')\n",
    "\n",
    "off_test = off_test.fillna(value = {'User_Received' : 0})"
   ]
  },
  {
   "cell_type": "markdown",
   "metadata": {},
   "source": [
    "# 用户领取某种类型优惠券数"
   ]
  },
  {
   "cell_type": "code",
   "execution_count": 5,
   "metadata": {},
   "outputs": [],
   "source": [
    "a = off_train[['User_id', 'Discount_rate', 'Date_received']].groupby(['User_id', 'Discount_rate'], as_index=False).count()\n",
    "a = a.rename(columns={'Date_received' : 'User_Received_type'})\n",
    "\n",
    "off_train = pd.merge(off_train, a, on=['User_id', 'Discount_rate'], how='left')\n",
    "off_test = pd.merge(off_test, a, on=['User_id', 'Discount_rate'], how='left')\n",
    "\n",
    "off_test = off_test.fillna(value = {'User_Received_type' : 0})"
   ]
  },
  {
   "cell_type": "markdown",
   "metadata": {},
   "source": [
    "# 用户使用某种类型优惠券数目/领取该类型优惠券数目"
   ]
  },
  {
   "cell_type": "code",
   "execution_count": 6,
   "metadata": {},
   "outputs": [],
   "source": [
    "a = off_train[['User_id', 'Discount_rate', 'Date']].groupby(['User_id', 'Discount_rate'], as_index=False).count() \n",
    "b = off_train[['User_id', 'Discount_rate', 'Date_received']].groupby(['User_id', 'Discount_rate'], as_index=False).count()\n",
    "c = pd.merge(a, b, on = ['User_id', 'Discount_rate'], how = 'left')\n",
    "def chufa(z):\n",
    "    x = z.Date / z.Date_received\n",
    "    return x\n",
    "c['User_Consume_type__User_Received_type'] = c.apply(chufa, axis=1)\n",
    "c = c.drop(columns=['Date', 'Date_received'])\n",
    "\n",
    "off_train = pd.merge(off_train, c, on=['User_id', 'Discount_rate'], how='left')\n",
    "off_test = pd.merge(off_test, c, on=['User_id', 'Discount_rate'], how='left')\n",
    "\n",
    "off_test = off_test.fillna(value = {'User_Consume_type__User_Received_type' : 0})"
   ]
  },
  {
   "cell_type": "markdown",
   "metadata": {},
   "source": [
    "# 用户使用某类型优惠券数/总体使用优惠券数"
   ]
  },
  {
   "cell_type": "code",
   "execution_count": 7,
   "metadata": {},
   "outputs": [],
   "source": [
    "a = off_train[['User_id', 'Discount_rate', 'Date']].groupby(['User_id', 'Discount_rate']).count() / off_train[['User_id', 'Date']].groupby('User_id').count()\n",
    "a = a.reset_index()\n",
    "a = a.dropna(subset=['Date'])\n",
    "a = a.rename(columns={'Date' : 'User_Consume_type/User_Consume'})\n",
    "\n",
    "off_train = pd.merge(off_train, a, on=['User_id', 'Discount_rate'], how='left')\n",
    "off_test = pd.merge(off_test, a, on=['User_id', 'Discount_rate'], how='left')\n",
    "\n",
    "off_test = off_test.fillna(value = {'User_Consume_type/User_Consume' : 0})"
   ]
  },
  {
   "cell_type": "markdown",
   "metadata": {},
   "source": [
    "# 用户使用优惠券的最大距离"
   ]
  },
  {
   "cell_type": "code",
   "execution_count": 8,
   "metadata": {},
   "outputs": [],
   "source": [
    "a = off_train[['User_id', 'Distance', 'Date']].groupby(['User_id', 'Date'], as_index=False).max()\n",
    "a = a.rename(columns={'Distance' : 'User_Consume_Distance_max'})\n",
    "a = a.drop_duplicates(subset=['User_id'])\n",
    "\n",
    "off_train = pd.merge(off_train, a[['User_id', 'User_Consume_Distance_max']], on='User_id', how='left')\n",
    "off_test = pd.merge(off_test, a[['User_id', 'User_Consume_Distance_max']], on='User_id', how='left')\n",
    "\n",
    "off_test = off_test.fillna(value = {'User_Consume_Distance_max' : 10})"
   ]
  },
  {
   "cell_type": "markdown",
   "metadata": {},
   "source": [
    "# 用户使用优惠券的最小距离"
   ]
  },
  {
   "cell_type": "code",
   "execution_count": 9,
   "metadata": {},
   "outputs": [],
   "source": [
    "a = off_train[['User_id', 'Distance', 'Date']].groupby(['User_id', 'Date'], as_index=False).min()\n",
    "a = a.rename(columns={'Distance' : 'User_Consume_Distance_min'})\n",
    "a = a.drop_duplicates(subset=['User_id'])\n",
    "\n",
    "off_train = pd.merge(off_train, a[['User_id', 'User_Consume_Distance_min']], on='User_id', how='left')\n",
    "off_test = pd.merge(off_test, a[['User_id', 'User_Consume_Distance_min']], on='User_id', how='left')\n",
    "\n",
    "off_test = off_test.fillna(value = {'User_Consume_Distance_min' : 0})"
   ]
  },
  {
   "cell_type": "markdown",
   "metadata": {},
   "source": [
    "# 用户一天内领取优惠券的数目"
   ]
  },
  {
   "cell_type": "code",
   "execution_count": 10,
   "metadata": {},
   "outputs": [],
   "source": [
    "a = off_train[['User_id', 'Date_received', 'Coupon_id']].groupby(['User_id', 'Date_received'], as_index=False).count()\n",
    "a = a.rename(columns={'Coupon_id' : 'User_Received_oneday'})\n",
    "off_train = pd.merge(off_train, a, on=['User_id', 'Date_received'], how='left')\n",
    "\n",
    "a = off_test[['User_id', 'Date_received', 'Coupon_id']].groupby(['User_id', 'Date_received'], as_index=False).count()\n",
    "a = a.rename(columns={'Coupon_id' : 'User_Received_oneday'})\n",
    "off_test = pd.merge(off_test, a, on=['User_id', 'Date_received'], how='left')"
   ]
  },
  {
   "cell_type": "markdown",
   "metadata": {},
   "source": [
    "# 用户消费的平均时间"
   ]
  },
  {
   "cell_type": "code",
   "execution_count": 11,
   "metadata": {},
   "outputs": [],
   "source": [
    "import datetime\n",
    "\n",
    "def days(z):\n",
    "    if str(z['Date_received']) != 'nan' and str(z['Date']) != 'nan':\n",
    "        days = (datetime.datetime.strptime(str(int(z['Date'])), \"%Y%m%d\") - datetime.datetime.strptime(str(int(z['Date_received'])), \"%Y%m%d\"))\n",
    "        return days.days\n",
    "    \n",
    "off_train['days'] = off_train.apply(days, axis = 1)\n",
    "\n",
    "a = off_train[['User_id', 'days']].groupby('User_id', as_index=False).mean()\n",
    "a = a.dropna(subset=['days'])\n",
    "a = a.rename(columns={'days' : 'User_Consume_day_mean'})\n",
    "\n",
    "off_train = pd.merge(off_train, a, on='User_id', how='left')\n",
    "off_test = pd.merge(off_test, a, on='User_id', how='left')\n",
    "\n",
    "off_test = off_test.fillna(value = {'User_Consume_day_mean' : 0})\n",
    "\n",
    "off_train = off_train.drop(columns=['days'])"
   ]
  },
  {
   "cell_type": "markdown",
   "metadata": {},
   "source": [
    "# 用户一天领取多少种优惠券"
   ]
  },
  {
   "cell_type": "code",
   "execution_count": 12,
   "metadata": {},
   "outputs": [],
   "source": [
    "a = off_train[['User_id', 'Date_received', 'Discount_rate']].groupby(['User_id', 'Date_received'], as_index=False).count()\n",
    "a = a.rename(columns={'Discount_rate' : 'User_Discount_oneday_type'})\n",
    "off_train = pd.merge(off_train, a, on=['User_id', 'Date_received'], how='left')\n",
    "\n",
    "a = off_test[['User_id', 'Date_received', 'Discount_rate']].groupby(['User_id', 'Date_received'], as_index=False).count()\n",
    "a = a.rename(columns={'Discount_rate' : 'User_Discount_oneday_type'})\n",
    "off_test = pd.merge(off_test, a, on=['User_id', 'Date_received'], how='left')"
   ]
  },
  {
   "cell_type": "markdown",
   "metadata": {},
   "source": [
    "# 用户使用某商家某种类型优惠券数目"
   ]
  },
  {
   "cell_type": "code",
   "execution_count": 13,
   "metadata": {},
   "outputs": [],
   "source": [
    "a = off_train[['User_id', 'Merchant_id', 'Discount_rate', 'Date']].groupby(['User_id', 'Merchant_id', 'Discount_rate'], as_index=False).count()\n",
    "a = a.rename(columns={'Date': 'User_Merchant_Consume_Discount_type'})\n",
    "\n",
    "off_train = pd.merge(off_train, a, on=['User_id', 'Merchant_id', 'Discount_rate'], how='left')\n",
    "off_test = pd.merge(off_test, a, on=['User_id', 'Merchant_id', 'Discount_rate'], how='left')\n",
    "\n",
    "off_test = off_test.fillna(value = {'User_Merchant_Consume_type' : 0})"
   ]
  },
  {
   "cell_type": "markdown",
   "metadata": {},
   "source": [
    "# 用户使用某商家某类型的优惠券/用户在某商家所有使用的优惠券数目"
   ]
  },
  {
   "cell_type": "code",
   "execution_count": 14,
   "metadata": {},
   "outputs": [],
   "source": [
    "a = off_train[['User_id', 'Merchant_id', 'Discount_rate', 'Date']].groupby(['User_id', 'Merchant_id', 'Discount_rate'], as_index=False).count() \n",
    "b = off_train[['User_id', 'Merchant_id', 'Date']].groupby(['User_id', 'Merchant_id'], as_index=False).count()\n",
    "b = b.rename(columns={'Date' : 'Consume'})\n",
    "c = pd.merge(a, b, on = ['User_id', 'Merchant_id'], how = 'left')\n",
    "def chufa(z):\n",
    "    if z.Date != 0 and z.Consume != 0:\n",
    "        x = z.Date / z.Consume\n",
    "        return x\n",
    "    else:\n",
    "        return np.NaN\n",
    "c['User_Merchant_Consume_Discount_type__User_Merchant_Consume'] = c.apply(chufa, axis=1)\n",
    "c = c.drop(columns=['Date', 'Consume'])\n",
    "\n",
    "off_train = pd.merge(off_train, c, on=['User_id', 'Merchant_id', 'Discount_rate'], how='left')\n",
    "off_test = pd.merge(off_test, c, on=['User_id', 'Merchant_id', 'Discount_rate'], how='left')\n",
    "\n",
    "off_train = off_train.fillna(value = {'User_Merchant_Consume_type__User_Merchant_Consume' : 0})\n",
    "off_test = off_test.fillna(value = {'User_Merchant_Consume_type__User_Merchant_Consume' : 0})"
   ]
  },
  {
   "cell_type": "markdown",
   "metadata": {},
   "source": [
    "# 用户使用某商家某类型优惠券/用户领取某商家某优惠券总数"
   ]
  },
  {
   "cell_type": "code",
   "execution_count": 15,
   "metadata": {},
   "outputs": [],
   "source": [
    "a = off_train[['User_id', 'Merchant_id', 'Discount_rate', 'Date']].groupby(['User_id', 'Merchant_id', 'Discount_rate'], as_index=False).count()\n",
    "b = off_train[['User_id', 'Merchant_id', 'Discount_rate', 'Date_received']].groupby(['User_id', 'Merchant_id', 'Discount_rate'], as_index=False).count()\n",
    "\n",
    "c = pd.merge(a, b, on = ['User_id', 'Merchant_id', 'Discount_rate'], how = 'left')\n",
    "def chufa(z):\n",
    "    x = z.Date / z.Date_received\n",
    "    return x\n",
    "c['User_Merchant_Consume_type__User_Merchant_Received_type'] = c.apply(chufa, axis=1)\n",
    "c = c.drop(columns=['Date', 'Date_received'])\n",
    "\n",
    "off_train = pd.merge(off_train, c, on=['User_id', 'Merchant_id', 'Discount_rate'], how='left')\n",
    "off_test = pd.merge(off_test, c, on=['User_id', 'Merchant_id', 'Discount_rate'], how='left')\n",
    "\n",
    "off_test = off_test.fillna(value = {'User_Merchant_Consume_type__User_Merchant_Received_type' : 0})"
   ]
  },
  {
   "cell_type": "markdown",
   "metadata": {},
   "source": [
    "# 用户使用某商家某类型优惠券/用户领取某商家优惠券总数"
   ]
  },
  {
   "cell_type": "code",
   "execution_count": 16,
   "metadata": {},
   "outputs": [],
   "source": [
    "a = off_train[['User_id', 'Merchant_id', 'Discount_rate', 'Date']].groupby(['User_id', 'Merchant_id', 'Discount_rate'], as_index=False).count()\n",
    "b = off_train[['User_id', 'Merchant_id', 'Date_received']].groupby(['User_id', 'Merchant_id'], as_index=False).count()\n",
    "\n",
    "c = pd.merge(a, b, on = ['User_id', 'Merchant_id'], how = 'left')\n",
    "def chufa(z):\n",
    "    x = z.Date / z.Date_received\n",
    "    return x\n",
    "c['User_Merchant_Consume_type__User_Merchant_Received'] = c.apply(chufa, axis=1)\n",
    "c = c.drop(columns=['Date', 'Date_received'])\n",
    "\n",
    "off_train = pd.merge(off_train, c, on=['User_id', 'Merchant_id', 'Discount_rate'], how='left')\n",
    "off_test = pd.merge(off_test, c, on=['User_id', 'Merchant_id', 'Discount_rate'], how='left')\n",
    "\n",
    "off_test = off_test.fillna(value = {'User_Merchant_Consume_type__User_Merchant_Received' : 0})"
   ]
  },
  {
   "cell_type": "markdown",
   "metadata": {},
   "source": [
    "# 用户使用某商家某类型优惠券/领取某商家某优惠券总数"
   ]
  },
  {
   "cell_type": "code",
   "execution_count": 17,
   "metadata": {},
   "outputs": [],
   "source": [
    "a = off_train[['User_id', 'Merchant_id', 'Discount_rate', 'Date']].groupby(['User_id', 'Merchant_id', 'Discount_rate'], as_index=False).count()\n",
    "b = off_train[['Merchant_id', 'Discount_rate', 'Date_received']].groupby(['Merchant_id', 'Discount_rate'], as_index=False).count()\n",
    "\n",
    "c = pd.merge(a, b, on = ['Merchant_id', 'Discount_rate'], how = 'left')\n",
    "def chufa(z):\n",
    "    x = z.Date / z.Date_received\n",
    "    return x\n",
    "c['User_Merchant_Consume_type__Merchant_Received_type'] = c.apply(chufa, axis=1)\n",
    "c = c.drop(columns=['Date', 'Date_received'])\n",
    "\n",
    "off_train = pd.merge(off_train, c, on=['User_id', 'Merchant_id', 'Discount_rate'], how='left')\n",
    "off_test = pd.merge(off_test, c, on=['User_id', 'Merchant_id', 'Discount_rate'], how='left')\n",
    "\n",
    "off_test = off_test.fillna(value = {'User_Merchant_Consume_type__Merchant_Received_type' : 0})"
   ]
  },
  {
   "cell_type": "markdown",
   "metadata": {},
   "source": [
    "# 用户使用商家的优惠券/商家使用优惠券数"
   ]
  },
  {
   "cell_type": "code",
   "execution_count": 18,
   "metadata": {},
   "outputs": [],
   "source": [
    "a = off_train[['User_id', 'Merchant_id', 'Date']].groupby(['User_id', 'Merchant_id']).count() / off_train[['Merchant_id', 'Date']].groupby('Merchant_id').count()\n",
    "a = a.reset_index()\n",
    "a = a.rename(columns={'Date' : 'User_Merchant_Consume__Merchant_Consume'})\n",
    "\n",
    "off_train = pd.merge(off_train, a, on=['User_id', 'Merchant_id'], how='left')\n",
    "off_test = pd.merge(off_test, a, on=['User_id', 'Merchant_id'], how='left')\n",
    "\n",
    "off_test = off_test.fillna(value = {'User_Merchant_Consume__Merchant_Consume' : 0})"
   ]
  },
  {
   "cell_type": "markdown",
   "metadata": {},
   "source": [
    "# 满减or折扣"
   ]
  },
  {
   "cell_type": "code",
   "execution_count": null,
   "metadata": {},
   "outputs": [],
   "source": [
    "import re\n",
    "regex = re.compile('^\\d+:\\d+$')\n",
    "\n",
    "def discount(z):\n",
    "    if re.match(regex, str(z['Discount_rate'])):\n",
    "        x = 1\n",
    "        return x \n",
    "    else:\n",
    "        x = 0\n",
    "        return x\n",
    "\n",
    "off_train['reduction_or_discount'] = off_train.apply(discount, axis = 1)\n",
    "off_test['reduction_or_discount'] = off_test.apply(discount, axis = 1)"
   ]
  },
  {
   "cell_type": "markdown",
   "metadata": {},
   "source": [
    "# 某类优惠券发放次数"
   ]
  },
  {
   "cell_type": "code",
   "execution_count": null,
   "metadata": {},
   "outputs": [],
   "source": [
    "a = off_train.Discount_rate.value_counts()\n",
    "a = a.reset_index()\n",
    "a = a.rename(columns={'index' : 'Discount_rate', 'Discount_rate' : 'Received_type'})\n",
    "from sklearn.preprocessing import minmax_scale \n",
    "b = minmax_scale(a.Received_type)\n",
    "a.Received_type = b\n",
    "off_train = pd.merge(off_train, a, on='Discount_rate', how='left')\n",
    "\n",
    "a = off_test.Discount_rate.value_counts()\n",
    "a = a.reset_index()\n",
    "a = a.rename(columns={'index' : 'Discount_rate', 'Discount_rate' : 'Received_type'})\n",
    "b = minmax_scale(a.Received_type)\n",
    "a.Received_type = b\n",
    "off_test = pd.merge(off_test, a, on='Discount_rate', how='left')"
   ]
  },
  {
   "cell_type": "markdown",
   "metadata": {},
   "source": [
    "# 某种优惠券使用次数"
   ]
  },
  {
   "cell_type": "code",
   "execution_count": null,
   "metadata": {},
   "outputs": [],
   "source": [
    "a = off_train[['Discount_rate', 'Date']].groupby('Discount_rate', as_index=False).count()\n",
    "a = a.rename(columns={'Date' : 'Consume_type'})\n",
    "\n",
    "off_train = pd.merge(off_train, a, on='Discount_rate', how='left')\n",
    "off_test = pd.merge(off_test, a, on='Discount_rate', how='left')\n",
    "\n",
    "off_test = off_test.fillna(value = {'Consume_type' : 0})"
   ]
  },
  {
   "cell_type": "markdown",
   "metadata": {},
   "source": [
    "# 某种优惠券使用/某种优惠券领取"
   ]
  },
  {
   "cell_type": "code",
   "execution_count": null,
   "metadata": {},
   "outputs": [],
   "source": [
    "a = off_train[['Discount_rate', 'Date']].groupby('Discount_rate', as_index=False).count() \n",
    "b = off_train[['Discount_rate', 'Date_received']].groupby('Discount_rate', as_index=False).count()\n",
    "c = pd.merge(a, b, on='Discount_rate', how='left')\n",
    "def chufa(z):\n",
    "    x = z.Date / z.Date_received\n",
    "    return x\n",
    "c['Consume_type__Received_type'] = c.apply(chufa, axis=1)\n",
    "c = c.drop(columns=['Date', 'Date_received'])\n",
    "\n",
    "off_train = pd.merge(off_train, c, on='Discount_rate', how='left')\n",
    "off_test = pd.merge(off_test, c, on='Discount_rate', how='left')\n",
    "\n",
    "off_test = off_test.fillna(value = {'Consume_type__Received_type' : 0})"
   ]
  },
  {
   "cell_type": "code",
   "execution_count": null,
   "metadata": {},
   "outputs": [],
   "source": []
  }
 ],
 "metadata": {
  "kernelspec": {
   "display_name": "Python 3",
   "language": "python",
   "name": "python3"
  },
  "language_info": {
   "codemirror_mode": {
    "name": "ipython",
    "version": 3
   },
   "file_extension": ".py",
   "mimetype": "text/x-python",
   "name": "python",
   "nbconvert_exporter": "python",
   "pygments_lexer": "ipython3",
   "version": "3.6.4"
  }
 },
 "nbformat": 4,
 "nbformat_minor": 2
}
