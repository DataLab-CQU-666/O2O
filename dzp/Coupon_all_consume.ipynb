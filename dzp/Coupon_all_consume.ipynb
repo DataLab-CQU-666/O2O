{
 "cells": [
  {
   "cell_type": "markdown",
   "metadata": {},
   "source": [
    "添加Coupon_all_consume特征，标记那些领取优惠劵数目等于使用优惠劵数目为1，否则为0"
   ]
  },
  {
   "cell_type": "code",
   "execution_count": null,
   "metadata": {},
   "outputs": [],
   "source": [
    "user_coupon = off_train[['User_id', 'Coupon_id']]\n",
    "# 利用User_id和Coupon_id两列对用户进性分组，并且计算每组的数目，并进行序号重置\n",
    "user_coupon_count = user_coupon.groupby(by=['User_id']).size().reset_index()\n",
    "# 重命名\n",
    "user_coupon_count.rename(columns={0:'Coupon_size'}, inplace=True)\n",
    "# 将筛选出来需要merge的列和原始的数据进行merge Coupon_size代表用户领取的优惠劵数目\n",
    "off_train = off_train.merge(user_coupon_count, on='User_id', how='inner')\n",
    "\n",
    "user_coupon = off_train[['User_id', 'result']]\n",
    "# 利用User_id和result两列对用户进性分组，并且计算每组的数目（这里相当于求和），并进行序号重置\n",
    "user_coupon_used_count = user_coupon.groupby(by=['User_id']).sum().reset_index()\n",
    "# 重命名 Consume_count用户使用了的优惠劵数目\n",
    "user_coupon_used_count.rename(columns={'result':'Conupon_have_used_count'}, inplace=True)\n",
    "# 将筛选出来需要merge的列和原始的数据进行merge\n",
    "off_train = off_train.merge(user_coupon_used_count, on='User_id', how='inner')\n",
    "\n",
    "# 为训练集添加Coupon_all_consume特征，标记那些领取优惠劵数目等于使用优惠劵数目\n",
    "off_train['Coupon_all_consume'] = off_train[['Conupon_have_used_count','Coupon_size']].apply(lambda x : 1 if x[0] == x[1] else 0, axis = 1)\n",
    "# 去掉产生的中间列\n",
    "off_train = off_train.drop(columns=['Coupon_size', 'Conupon_have_used_count'])\n",
    "# 提取需要的列好merge到测试集中\n",
    "off_train_coupon_all_consume = off_train[['User_id', 'Coupon_all_consume']]\n",
    "off_train_coupon_all_consume = off_train_coupon_all_consume.drop_duplicates(['User_id', 'Coupon_all_consume'])\n",
    "#为测试集添加Coupon_all_consume特征\n",
    "off_test = off_test.merge(off_train_coupon_all_consume, on='User_id', how='left')\n",
    "# 填充merge以后的空值为0\n",
    "off_test = off_test.fillna({'Coupon_all_consume':0})"
   ]
  }
 ],
 "metadata": {
  "kernelspec": {
   "display_name": "Python 3",
   "language": "python",
   "name": "python3"
  },
  "language_info": {
   "codemirror_mode": {
    "name": "ipython",
    "version": 3
   },
   "file_extension": ".py",
   "mimetype": "text/x-python",
   "name": "python",
   "nbconvert_exporter": "python",
   "pygments_lexer": "ipython3",
   "version": "3.6.5"
  }
 },
 "nbformat": 4,
 "nbformat_minor": 2
}
