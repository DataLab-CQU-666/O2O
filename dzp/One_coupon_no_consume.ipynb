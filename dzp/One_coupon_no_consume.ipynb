{
 "cells": [
  {
   "cell_type": "markdown",
   "metadata": {},
   "source": [
    "添加One_coupon_no_consume特征：标记领取了一张优惠劵并且未使用的用户为1，其余用户为0"
   ]
  },
  {
   "cell_type": "code",
   "execution_count": null,
   "metadata": {},
   "outputs": [],
   "source": [
    "user_coupon = off_train[['User_id', 'Coupon_id','result']]\n",
    "# 利用User_id和result两列对用户进性分组，并且计算每组的数目，并进行序号重置\n",
    "user_coupon_count = user_coupon.groupby(by=['User_id','result']).size().reset_index()\n",
    "# 重命名\n",
    "user_coupon_count.rename(columns={0:'Coupon_size'}, inplace=True)\n",
    "# 筛选出领取次数为1并且未消费的\n",
    "user_coupon_count_1 = user_coupon_count[(user_coupon_count.Coupon_size == 1) & (user_coupon_count.result == 0)]\n",
    "# 去掉不需要merge的这一列，即result\n",
    "user_coupon_count_1 = user_coupon_count_1.drop(columns=['result'])\n",
    "\n",
    "# 训练集进行添加One_coupon_no_consume特征\n",
    "# 将筛选出来需要merge的列和原始的数据进行merge\n",
    "off_train = off_train.merge(user_coupon_count_1, on='User_id', how='left')\n",
    "#再次重命名\n",
    "off_train.rename(columns={'Coupon_size':'One_coupon_no_consume'}, inplace=True)\n",
    "# 填充merge以后的空值项为 0\n",
    "off_train = off_train.fillna({'One_coupon_no_consume':0})\n",
    "\n",
    "# 测试集添加One_coupon_no_consume特征\n",
    "off_test = off_test.merge(user_coupon_count_1, on='User_id', how='left')\n",
    "off_test.rename(columns={'Coupon_size':'One_coupon_no_consume'}, inplace=True)\n",
    "off_test = off_test.fillna({'One_coupon_no_consume':0})"
   ]
  }
 ],
 "metadata": {
  "kernelspec": {
   "display_name": "Python 3",
   "language": "python",
   "name": "python3"
  },
  "language_info": {
   "codemirror_mode": {
    "name": "ipython",
    "version": 3
   },
   "file_extension": ".py",
   "mimetype": "text/x-python",
   "name": "python",
   "nbconvert_exporter": "python",
   "pygments_lexer": "ipython3",
   "version": "3.6.5"
  }
 },
 "nbformat": 4,
 "nbformat_minor": 2
}
