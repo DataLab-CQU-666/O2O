{
 "cells": [
  {
   "cell_type": "markdown",
   "metadata": {},
   "source": [
    " # 优惠券预测\n",
    " \n",
    "## 选取特征\n",
    " - 选取distance的作为特征，空值填充为1\n",
    " - 选取discount_rate数据并且对其进行one-hot处理\n",
    " - 添加一列特征，设置每个优惠劵领取的星期数\n",
    " - 添加每个商铺的领取的优惠劵数目\n",
    "## 使用算法\n",
    " \n",
    " - 逻辑回归（无任何参数设置）\n",
    " \n",
    "## 实验测试集AUC\n",
    " "
   ]
  },
  {
   "cell_type": "code",
   "execution_count": 1,
   "metadata": {},
   "outputs": [],
   "source": [
    "import pandas as pd\n",
    "from sklearn.linear_model import LogisticRegression"
   ]
  },
  {
   "cell_type": "markdown",
   "metadata": {},
   "source": [
    "# 读入数据"
   ]
  },
  {
   "cell_type": "code",
   "execution_count": 2,
   "metadata": {},
   "outputs": [],
   "source": [
    "off_train = pd.read_csv('ccf_offline_stage1_train_have_coupon.csv', encoding='utf-8')\n",
    "off_test = pd.read_csv('ccf_offline_stage1_test_revised.csv')\n",
    "sample = pd.read_csv('sample_submission.csv',encoding = 'utf-8', header = None)"
   ]
  },
  {
   "cell_type": "markdown",
   "metadata": {},
   "source": [
    "# 数据预处理"
   ]
  },
  {
   "cell_type": "markdown",
   "metadata": {},
   "source": [
    "Distance选取为特征"
   ]
  },
  {
   "cell_type": "code",
   "execution_count": 3,
   "metadata": {},
   "outputs": [],
   "source": [
    "#训练集Distance空值填充为1\n",
    "off_train = off_train.fillna(value = {'Distance' : 1})\n",
    "#训练集Distance空值填充为1\n",
    "off_test = off_test.fillna(value = {'Distance' : 1})"
   ]
  },
  {
   "cell_type": "markdown",
   "metadata": {},
   "source": [
    "添加星期数作为特征"
   ]
  },
  {
   "cell_type": "code",
   "execution_count": 4,
   "metadata": {},
   "outputs": [],
   "source": [
    "#对训练集取星期数\n",
    "off_train[\"Week\"] = off_train[\"Date_received\"]\n",
    "off_train.Week = off_train.Week.astype(\"int\")\n",
    "off_train.Week = off_train.Week.astype(\"str\")\n",
    "off_train[\"Week\"] = pd.to_datetime(off_train[\"Week\"]).apply(lambda x : x.weekday())\n",
    "\n",
    "#对测试集取星期数\n",
    "off_test[\"Week\"] = off_test[\"Date_received\"]\n",
    "off_test.Week = off_test.Week.astype(\"int\")\n",
    "off_test.Week = off_test.Week.astype(\"str\")\n",
    "off_test[\"Week\"] = pd.to_datetime(off_test[\"Week\"]).apply(lambda x : x.weekday())"
   ]
  },
  {
   "cell_type": "markdown",
   "metadata": {},
   "source": [
    "判断使用优惠券日期-领取优惠券日期是否小于15天，小于取1，大于取0 "
   ]
  },
  {
   "cell_type": "code",
   "execution_count": 5,
   "metadata": {},
   "outputs": [],
   "source": [
    "import datetime\n",
    "\n",
    "#判断使用优惠券日期-领取优惠券日期是否小于15天，小于取1，大于取0 \n",
    "def days(z):\n",
    "    if str(z['Date_received']) != 'nan' and str(z['Date']) != 'nan':\n",
    "        days = (datetime.datetime.strptime(str(int(z['Date'])), \"%Y%m%d\") - datetime.datetime.strptime(str(int(z['Date_received'])), \"%Y%m%d\"))\n",
    "        if days.days > 15:\n",
    "            return 0\n",
    "        else:\n",
    "            return 1\n",
    "    else:\n",
    "        return 0\n",
    "\n",
    "#将判断后的结果赋值给训练集    \n",
    "off_train['less_15'] = off_train.apply(days, axis = 1)\n",
    "\n",
    "#用户和优惠券id是多对多的关系，所以按用户对他消费小于15天的数做了一个累加，去除掉训练集中的这列特征，方便做处理后特征的连接\n",
    "train = off_train[['User_id', 'less_15']]\n",
    "train = train.drop_duplicates(subset = ['User_id'])\n",
    "a = train.less_15.groupby(train['User_id']).sum()\n",
    "train = a.reset_index()\n",
    "off_train = off_train.drop(columns = 'less_15')\n",
    "\n",
    "#对测试集和测试集按用户增加这列特征\n",
    "off_train = pd.merge(off_train, train, on = 'User_id', how = 'left')\n",
    "off_test = pd.merge(off_test, train, on = 'User_id', how = 'left')\n",
    "\n",
    "#测试集中有训练集中没有出现的用户，这类用户的这个特征默认填了空，把空值填0\n",
    "off_test.less_15 = off_test.less_15.fillna(0)"
   ]
  },
  {
   "cell_type": "markdown",
   "metadata": {},
   "source": [
    "用户优惠劵使用数目"
   ]
  },
  {
   "cell_type": "code",
   "execution_count": 6,
   "metadata": {},
   "outputs": [],
   "source": [
    "#按用户对优惠券id和消费日期进行分组并计数，得到用户的优惠券消费次数\n",
    "User_Coupon_notna = off_train[['User_id', 'Date']].groupby('User_id').count()\n",
    "User_Coupon_notna = User_Coupon_notna.reset_index()\n",
    "User_Coupon_notna.rename(columns = {'Coupon_id' : 'Coupon_id_count', 'Date' : 'Consume_count'}, inplace=True)\n",
    "\n",
    "#将得到的特征返回到训练集与测试集中，测试集中有训练集中没有出现的用户，这类用户的这个特征默认填了空，把空值填0\n",
    "off_train = pd.merge(off_train, User_Coupon_notna[['User_id', 'Consume_count']], on = ['User_id'], how = 'left')\n",
    "off_test = pd.merge(off_test, User_Coupon_notna[['User_id', 'Consume_count']], on = 'User_id', how = 'left')\n",
    "off_test = off_test.fillna(value = {'Consume_count' : 0})"
   ]
  },
  {
   "cell_type": "markdown",
   "metadata": {},
   "source": [
    "Discount_rate进行onehot"
   ]
  },
  {
   "cell_type": "code",
   "execution_count": 7,
   "metadata": {},
   "outputs": [],
   "source": [
    "#对训练集和测试集中的Discount_rate进行独热编码#对训练集和测 \n",
    "off_train = pd.get_dummies(off_train, prefix=['Discount_rate'])\n",
    "off_test = pd.get_dummies(off_test, prefix=['Discount_rate'])\n",
    "\n",
    "#训练集中出现了4个测试集中没有出现的码段，进行填充\n",
    "m = list(set(off_train.columns.tolist()) - set(off_test.columns.tolist()))\n",
    "for i in m:\n",
    "    off_test[i] = 0\n",
    "\n",
    "#测试集中有一个训练集中没有的码段，进行填充    \n",
    "off_train['Discount_rate_500:30'] = 0"
   ]
  },
  {
   "cell_type": "markdown",
   "metadata": {},
   "source": [
    "筛选训练测试所需要的行和列"
   ]
  },
  {
   "cell_type": "code",
   "execution_count": 8,
   "metadata": {},
   "outputs": [],
   "source": [
    "#训练数据\n",
    "x_train = off_train.drop(columns = ['Date_received', 'User_id', 'Merchant_id', 'Coupon_id', 'Date', 'result'])\n",
    "y_train = off_train.result\n",
    "x_test = off_test.drop(columns = ['Date_received', 'User_id', 'Merchant_id', 'Coupon_id'])\n",
    "\n",
    "#将训练数据和测试数据的列一一对应\n",
    "x_test = x_test[x_train.columns.tolist()]"
   ]
  },
  {
   "cell_type": "markdown",
   "metadata": {},
   "source": [
    "# 训练模型"
   ]
  },
  {
   "cell_type": "code",
   "execution_count": 9,
   "metadata": {},
   "outputs": [
    {
     "data": {
      "text/plain": [
       "LogisticRegression(C=1.0, class_weight=None, dual=False, fit_intercept=True,\n",
       "          intercept_scaling=1, max_iter=100, multi_class='ovr', n_jobs=1,\n",
       "          penalty='l2', random_state=None, solver='liblinear', tol=0.0001,\n",
       "          verbose=0, warm_start=False)"
      ]
     },
     "execution_count": 9,
     "metadata": {},
     "output_type": "execute_result"
    }
   ],
   "source": [
    "clf = LogisticRegression()\n",
    "clf.fit(x_train, y_train)"
   ]
  },
  {
   "cell_type": "markdown",
   "metadata": {},
   "source": [
    "# 输出数据"
   ]
  },
  {
   "cell_type": "code",
   "execution_count": 10,
   "metadata": {},
   "outputs": [],
   "source": [
    "#进行预测，并将需要保存的部分写入save\n",
    "predict = clf.predict_proba(x_test)\n",
    "save = off_test[['User_id', 'Coupon_id', 'Date_received']]\n",
    "save.insert(3, 'probability', predict[:,1], True)"
   ]
  },
  {
   "cell_type": "code",
   "execution_count": 11,
   "metadata": {},
   "outputs": [],
   "source": [
    "#输出结果为csv\n",
    "save.to_csv('这里为你需要设置的路径', index = None)"
   ]
  }
 ],
 "metadata": {
  "kernelspec": {
   "display_name": "Python 3",
   "language": "python",
   "name": "python3"
  },
  "language_info": {
   "codemirror_mode": {
    "name": "ipython",
    "version": 3
   },
   "file_extension": ".py",
   "mimetype": "text/x-python",
   "name": "python",
   "nbconvert_exporter": "python",
   "pygments_lexer": "ipython3",
   "version": "3.6.5"
  }
 },
 "nbformat": 4,
 "nbformat_minor": 2
}
